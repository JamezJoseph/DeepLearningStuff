{
 "cells": [
  {
   "cell_type": "code",
   "execution_count": 1,
   "metadata": {},
   "outputs": [
    {
     "name": "stdout",
     "output_type": "stream",
     "text": [
      "[101]\n"
     ]
    },
    {
     "data": {
      "text/plain": [
       "[15, 18, 7, 13, 16, 11, 21, 5, 15, 10, 9]"
      ]
     },
     "execution_count": 1,
     "metadata": {},
     "output_type": "execute_result"
    }
   ],
   "source": [
    "#data preprocessing using z_score\n",
    "import numpy as np\n",
    "data = [15,101,18,7,13,16,11,21,5,15,10,9]\n",
    "def outlier_analysis(data):\n",
    "    outliers=[]\n",
    "    threshold=3\n",
    "    mean=np.mean(data)\n",
    "    stdev=np.std(data)\n",
    "    for i in data:\n",
    "        z_score=(i-mean)/stdev\n",
    "        if (np.abs(z_score)>threshold):\n",
    "            outliers.append(i)\n",
    "    return outliers\n",
    "out=outlier_analysis(data)\n",
    "print(out)\n",
    "new=[i for i in data if i not in out]\n",
    "new"
   ]
  },
  {
   "cell_type": "code",
   "execution_count": 2,
   "metadata": {},
   "outputs": [
    {
     "name": "stdout",
     "output_type": "stream",
     "text": [
      "[101]\n"
     ]
    }
   ],
   "source": [
    "#preprocessing using iqr\n",
    "def outlier_iqr(data):\n",
    "    outliers=[]\n",
    "    data=sorted(data)\n",
    "    q1=np.percentile(data,25)\n",
    "    q3=np.percentile(data,75)\n",
    "    iqr=q3-q1\n",
    "    lwr_bound=q1-(1.5*iqr)\n",
    "    upr_bound=q3+(1.5*iqr)\n",
    "    for i in data:\n",
    "        if i<lwr_bound or i>upr_bound:\n",
    "            outliers.append(i)\n",
    "    return outliers\n",
    "out=outlier_iqr(data)\n",
    "print(out)\n",
    "    "
   ]
  },
  {
   "cell_type": "code",
   "execution_count": null,
   "metadata": {},
   "outputs": [],
   "source": []
  }
 ],
 "metadata": {
  "kernelspec": {
   "display_name": "Python 3.9.6 64-bit",
   "language": "python",
   "name": "python3"
  },
  "language_info": {
   "codemirror_mode": {
    "name": "ipython",
    "version": 3
   },
   "file_extension": ".py",
   "mimetype": "text/x-python",
   "name": "python",
   "nbconvert_exporter": "python",
   "pygments_lexer": "ipython3",
   "version": "3.9.6"
  },
  "orig_nbformat": 4,
  "vscode": {
   "interpreter": {
    "hash": "31f2aee4e71d21fbe5cf8b01ff0e069b9275f58929596ceb00d14d90e3e16cd6"
   }
  }
 },
 "nbformat": 4,
 "nbformat_minor": 2
}
